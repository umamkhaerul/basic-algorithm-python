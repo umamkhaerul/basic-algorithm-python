{
 "cells": [
  {
   "cell_type": "code",
   "execution_count": 2,
   "metadata": {},
   "outputs": [
    {
     "name": "stdout",
     "output_type": "stream",
     "text": [
      "masukan nilai: 55\n",
      "Kamu harus remidi\n"
     ]
    }
   ],
   "source": [
    "nilai = int(input(\"masukan nilai: \"))\n",
    "if nilai <70 :\n",
    "    print (\"Kamu harus remidi\")"
   ]
  },
  {
   "cell_type": "code",
   "execution_count": 5,
   "metadata": {},
   "outputs": [
    {
     "name": "stdout",
     "output_type": "stream",
     "text": [
      "masukan jari-jari: 4\n",
      "nilai Lingkaran:  50.24\n",
      "lingkaran kecil\n"
     ]
    }
   ],
   "source": [
    "r = int (input(\"masukan jari-jari: \"))\n",
    "l= 3.14*r*r\n",
    "print (\"nilai Lingkaran: \",l)\n",
    "if l >314 :\n",
    "    print (\"lingkaran besar\")\n",
    "else:\n",
    "    print(\"lingkaran kecil\")"
   ]
  },
  {
   "cell_type": "code",
   "execution_count": 7,
   "metadata": {},
   "outputs": [
    {
     "name": "stdout",
     "output_type": "stream",
     "text": [
      "masukan program yang di pilih: 2\n",
      "masukan sisi dalam cm: 12\n",
      "volume kubus = 1728 cm\n"
     ]
    }
   ],
   "source": [
    "def v_balok():\n",
    "    p=int(input(\"masukan nilai panjang: \"))\n",
    "    l=int(input(\"masukan nilai lebar: \"))\n",
    "    t=int(input(\"masukan nilai tinggi: \"))\n",
    "    volume=p*l*t\n",
    "    return volume\n",
    "def v_kubus():\n",
    "    s=int(input(\"masukan sisi dalam cm: \"))\n",
    "    volume=s*s*s\n",
    "    return volume\n",
    "program=int(input(\"masukan program yang di pilih: \"))\n",
    "if program == 1:\n",
    "    print(\"volume balok =\",v_balok(),\"cm\")\n",
    "elif program == 2:\n",
    "    print(\"volume kubus =\",v_kubus(),\"cm\")\n",
    "else:\n",
    "    print(\"program tidak tersedia\")"
   ]
  },
  {
   "cell_type": "markdown",
   "metadata": {},
   "source": []
  }
 ],
 "metadata": {
  "kernelspec": {
   "display_name": "Python 3",
   "language": "python",
   "name": "python3"
  },
  "language_info": {
   "codemirror_mode": {
    "name": "ipython",
    "version": 3
   },
   "file_extension": ".py",
   "mimetype": "text/x-python",
   "name": "python",
   "nbconvert_exporter": "python",
   "pygments_lexer": "ipython3",
   "version": "3.7.6"
  }
 },
 "nbformat": 4,
 "nbformat_minor": 4
}
