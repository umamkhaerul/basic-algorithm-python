{
 "cells": [
  {
   "cell_type": "code",
   "execution_count": 1,
   "metadata": {},
   "outputs": [
    {
     "name": "stdout",
     "output_type": "stream",
     "text": [
      "Hasil 3 + 6 = 9\n",
      "Hasil 6 - 3 = 3\n",
      "Hasil 9 * 3 = 27\n",
      "Hasil 9 % 3 = 0\n",
      "Hasil 9 ** 3 = 729\n"
     ]
    }
   ],
   "source": [
    "#nama khaerul umam\n",
    "\n",
    "a=3\n",
    "b=6\n",
    "c=a+b\n",
    "d=b-a\n",
    "e=c*d\n",
    "f=c/d\n",
    "g=c%d\n",
    "h=c**d\n",
    "\n",
    "print(\"Hasil\",a,\"+\",b,\"=\",c)\n",
    "\n",
    "print(\"Hasil\",b,\"-\",a,\"=\",d)\n",
    "\n",
    "print(\"Hasil\",c,\"*\",d,\"=\",e)\n",
    "\n",
    "print(\"Hasil\",c,\"%\",d,\"=\",int(g))\n",
    "\n",
    "print(\"Hasil\",c,\"**\",d,\"=\",int(h))"
   ]
  },
  {
   "cell_type": "code",
   "execution_count": 2,
   "metadata": {},
   "outputs": [
    {
     "name": "stdout",
     "output_type": "stream",
     "text": [
      "6\n",
      "8\n",
      "5\n",
      "20\n",
      "4\n",
      "1\n",
      "1\n"
     ]
    }
   ],
   "source": [
    "#nama khaerul umam \n",
    "\n",
    "a=6\n",
    "print(a)\n",
    "\n",
    "a+=2\n",
    "print(a)\n",
    "\n",
    "a-=3\n",
    "print(a)\n",
    "\n",
    "a*=4\n",
    "print(a)\n",
    "\n",
    "a/=5\n",
    "print(int(a))\n",
    "\n",
    "a%=3\n",
    "print(int(a))\n",
    "\n",
    "a**=2\n",
    "print(int(a))"
   ]
  },
  {
   "cell_type": "code",
   "execution_count": 3,
   "metadata": {},
   "outputs": [
    {
     "name": "stdout",
     "output_type": "stream",
     "text": [
      "Apakah a lebih besar dari b: False\n",
      "Apakah a lebih kecil dari b: False\n",
      "Apakah a sama dengan b: True\n",
      "Apakah a lebih besar sama dengan dari b: True\n",
      "Apakah a lebih kecil sama dengan dari b: True\n"
     ]
    }
   ],
   "source": [
    "#nama Khaerul umam \n",
    "\n",
    "a=4\n",
    "b=4\n",
    "\n",
    "c= a>b\n",
    "print(\"Apakah a lebih besar dari b:\",c)\n",
    "\n",
    "d= a<b\n",
    "print(\"Apakah a lebih kecil dari b:\",d)\n",
    "\n",
    "e= a==b\n",
    "print(\"Apakah a sama dengan b:\",e)\n",
    "\n",
    "f= a>=b\n",
    "print(\"Apakah a lebih besar sama dengan dari b:\",f)\n",
    "\n",
    "g= a<=b\n",
    "print(\"Apakah a lebih kecil sama dengan dari b:\",g)"
   ]
  },
  {
   "cell_type": "code",
   "execution_count": 22,
   "metadata": {},
   "outputs": [
    {
     "name": "stdout",
     "output_type": "stream",
     "text": [
      "False\n",
      "True\n",
      "False\n"
     ]
    }
   ],
   "source": [
    "#nama khaerul umam \n",
    "\n",
    "a= True\n",
    "b= False\n",
    "\n",
    "c= a and b\n",
    "print(c)\n",
    "\n",
    "d= a or b\n",
    "print(d)\n",
    "\n",
    "e= not a\n",
    "print(e)"
   ]
  },
  {
   "cell_type": "code",
   "execution_count": 1,
   "metadata": {},
   "outputs": [
    {
     "name": "stdout",
     "output_type": "stream",
     "text": [
      "nama bayi?ada\n",
      "berat badan bayi?9\n",
      "Nama bayi adalah ada\n",
      "Berat dalam Kg adalah 9 Kg\n",
      "Berat dalam Ons adalah 90 Ons\n",
      "Berat bayi 1 bulan ke depan harus ditambahkan 30 Ons sehingga menjadi 120 Ons\n"
     ]
    }
   ],
   "source": [
    "#nama khaerul umam\n",
    "\n",
    "name=input(\"nama bayi?\")\n",
    "weight_Kg=int(input(\"berat badan bayi?\"))\n",
    "weight_Ons=weight_Kg*10\n",
    "weight_Ons_1months=weight_Ons+30\n",
    "print(\"Nama bayi adalah\",name)\n",
    "print(\"Berat dalam Kg adalah\",weight_Kg, \"Kg\")\n",
    "print(\"Berat dalam Ons adalah\",weight_Ons,\"Ons\")\n",
    "print(\"Berat bayi 1 bulan ke depan harus ditambahkan 30 Ons sehingga menjadi\",weight_Ons_1months,\"Ons\")"
   ]
  },
  {
   "cell_type": "code",
   "execution_count": null,
   "metadata": {},
   "outputs": [],
   "source": []
  }
 ],
 "metadata": {
  "kernelspec": {
   "display_name": "Python 3",
   "language": "python",
   "name": "python3"
  },
  "language_info": {
   "codemirror_mode": {
    "name": "ipython",
    "version": 3
   },
   "file_extension": ".py",
   "mimetype": "text/x-python",
   "name": "python",
   "nbconvert_exporter": "python",
   "pygments_lexer": "ipython3",
   "version": "3.8.3"
  }
 },
 "nbformat": 4,
 "nbformat_minor": 4
}
