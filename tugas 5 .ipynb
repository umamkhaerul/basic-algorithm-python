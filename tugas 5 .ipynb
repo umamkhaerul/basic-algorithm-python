{
 "cells": [
  {
   "cell_type": "code",
   "execution_count": 2,
   "metadata": {},
   "outputs": [
    {
     "name": "stdout",
     "output_type": "stream",
     "text": [
      "i like programming\n",
      "because i proud to make something new\n"
     ]
    }
   ],
   "source": [
    "# membuat 2 fungsi\n",
    "def pro():\n",
    "    print(\"because i proud to make something new\")\n",
    "def pro2():\n",
    "    print (\"i like programming\")\n",
    "# memanggil fungsi\n",
    "pro2()\n",
    "pro()"
   ]
  },
  {
   "cell_type": "code",
   "execution_count": 3,
   "metadata": {},
   "outputs": [
    {
     "name": "stdout",
     "output_type": "stream",
     "text": [
      "nama saya roy\n",
      "perkenalkan nama saya adalah roy\n",
      "luas persegi panjang adalah 45\n"
     ]
    }
   ],
   "source": [
    "def fungsi():\n",
    "    name=input(\"nama saya \")\n",
    "    print(\"perkenalkan nama saya adalah\",name)\n",
    "def luas_persegi_panjang(panjang,lebar):\n",
    "    luas=(panjang*lebar)\n",
    "    print(\"luas persegi panjang adalah\",luas)\n",
    "fungsi()\n",
    "luas_persegi_panjang(9,5)"
   ]
  },
  {
   "cell_type": "code",
   "execution_count": 4,
   "metadata": {},
   "outputs": [
    {
     "name": "stdout",
     "output_type": "stream",
     "text": [
      "luas persegipanjang:  60\n",
      "volume balok: 576\n"
     ]
    }
   ],
   "source": [
    "# Luas Persegi panjang\n",
    "def luas_persegipanjang(p, l):\n",
    "    luas=p*l\n",
    "    return luas\n",
    "print (\"luas persegipanjang: \",luas_persegipanjang(12, 5))\n",
    "# volume Balok\n",
    "def volume_balok(p,l,t):\n",
    "    V=p*l*t\n",
    "    return V\n",
    "print (\"volume balok:\",volume_balok(12,6,8))"
   ]
  },
  {
   "cell_type": "code",
   "execution_count": 5,
   "metadata": {},
   "outputs": [
    {
     "name": "stdout",
     "output_type": "stream",
     "text": [
      "masukan angka pertama6\n",
      "masukan angka kedua7\n",
      "6 sama dengan 7 adalah False\n",
      "masukan angka pertama1\n",
      "masukan angka kedua5\n",
      "1 lebih dari 5 adalah False\n"
     ]
    }
   ],
   "source": [
    "def fungsi_operator1():\n",
    "    angka_1=int(input(\"masukan angka pertama\"))\n",
    "    angka_2=int(input(\"masukan angka kedua\"))\n",
    "    operator1=angka_1==angka_2\n",
    "    print(angka_1,\"sama dengan\",angka_2,\"adalah\",operator1)\n",
    "    \n",
    "def fungsi_operator2():\n",
    "    angka_1=int(input(\"masukan angka pertama\"))\n",
    "    angka_2=int(input(\"masukan angka kedua\"))\n",
    "    operator2=angka_1>=angka_2\n",
    "    print(angka_1,\"lebih dari\",angka_2,\"adalah\",operator2)\n",
    "fungsi_operator1()\n",
    "fungsi_operator2()"
   ]
  },
  {
   "cell_type": "code",
   "execution_count": null,
   "metadata": {},
   "outputs": [],
   "source": []
  }
 ],
 "metadata": {
  "kernelspec": {
   "display_name": "Python 3",
   "language": "python",
   "name": "python3"
  },
  "language_info": {
   "codemirror_mode": {
    "name": "ipython",
    "version": 3
   },
   "file_extension": ".py",
   "mimetype": "text/x-python",
   "name": "python",
   "nbconvert_exporter": "python",
   "pygments_lexer": "ipython3",
   "version": "3.7.6"
  }
 },
 "nbformat": 4,
 "nbformat_minor": 4
}
